{
 "cells": [
  {
   "cell_type": "code",
   "execution_count": 1,
   "metadata": {},
   "outputs": [],
   "source": [
    "import pandas as pd\n",
    "import numpy as np\n",
    "import json\n",
    "from itertools import islice, chain, cycle\n",
    "import random\n",
    "import copy"
   ]
  },
  {
   "cell_type": "code",
   "execution_count": 15,
   "metadata": {},
   "outputs": [],
   "source": [
    "def preprocessing(df, column_name):\n",
    "    df[column_name] = df[column_name].str.lower()\n",
    "    return df[column_name]"
   ]
  },
  {
   "cell_type": "code",
   "execution_count": 6,
   "metadata": {},
   "outputs": [
    {
     "data": {
      "text/html": [
       "<div>\n",
       "<style scoped>\n",
       "    .dataframe tbody tr th:only-of-type {\n",
       "        vertical-align: middle;\n",
       "    }\n",
       "\n",
       "    .dataframe tbody tr th {\n",
       "        vertical-align: top;\n",
       "    }\n",
       "\n",
       "    .dataframe thead th {\n",
       "        text-align: right;\n",
       "    }\n",
       "</style>\n",
       "<table border=\"1\" class=\"dataframe\">\n",
       "  <thead>\n",
       "    <tr style=\"text-align: right;\">\n",
       "      <th></th>\n",
       "      <th>situation</th>\n",
       "      <th>persona</th>\n",
       "    </tr>\n",
       "  </thead>\n",
       "  <tbody>\n",
       "    <tr>\n",
       "      <th>0</th>\n",
       "      <td>immigration checkpoint</td>\n",
       "      <td>I have a pasport.</td>\n",
       "    </tr>\n",
       "    <tr>\n",
       "      <th>1</th>\n",
       "      <td>immigration checkpoint</td>\n",
       "      <td>I am first visit in Singapore.</td>\n",
       "    </tr>\n",
       "    <tr>\n",
       "      <th>2</th>\n",
       "      <td>immigration checkpoint</td>\n",
       "      <td>I will be staying at the hotel.</td>\n",
       "    </tr>\n",
       "    <tr>\n",
       "      <th>3</th>\n",
       "      <td>immigration checkpoint</td>\n",
       "      <td>I will be staying for three days.</td>\n",
       "    </tr>\n",
       "    <tr>\n",
       "      <th>4</th>\n",
       "      <td>In a Taxi</td>\n",
       "      <td>I'd like to go to the hotel.</td>\n",
       "    </tr>\n",
       "    <tr>\n",
       "      <th>...</th>\n",
       "      <td>...</td>\n",
       "      <td>...</td>\n",
       "    </tr>\n",
       "    <tr>\n",
       "      <th>75</th>\n",
       "      <td>Getting a souvenir</td>\n",
       "      <td>I will need a large.</td>\n",
       "    </tr>\n",
       "    <tr>\n",
       "      <th>76</th>\n",
       "      <td>Asking someone to Take a photo</td>\n",
       "      <td>Just show me what to do with the camera.</td>\n",
       "    </tr>\n",
       "    <tr>\n",
       "      <th>77</th>\n",
       "      <td>Asking someone to Take a photo</td>\n",
       "      <td>I take you photo.</td>\n",
       "    </tr>\n",
       "    <tr>\n",
       "      <th>78</th>\n",
       "      <td>Asking someone to Take a photo</td>\n",
       "      <td>all right say cheese</td>\n",
       "    </tr>\n",
       "    <tr>\n",
       "      <th>79</th>\n",
       "      <td>Asking someone to Take a photo</td>\n",
       "      <td>My phone's battery is low.</td>\n",
       "    </tr>\n",
       "  </tbody>\n",
       "</table>\n",
       "<p>80 rows × 2 columns</p>\n",
       "</div>"
      ],
      "text/plain": [
       "                         situation                                   persona\n",
       "0           immigration checkpoint                         I have a pasport.\n",
       "1           immigration checkpoint            I am first visit in Singapore.\n",
       "2           immigration checkpoint           I will be staying at the hotel.\n",
       "3           immigration checkpoint         I will be staying for three days.\n",
       "4                        In a Taxi              I'd like to go to the hotel.\n",
       "..                             ...                                       ...\n",
       "75              Getting a souvenir                      I will need a large.\n",
       "76  Asking someone to Take a photo  Just show me what to do with the camera.\n",
       "77  Asking someone to Take a photo                         I take you photo.\n",
       "78  Asking someone to Take a photo                      all right say cheese\n",
       "79  Asking someone to Take a photo                My phone's battery is low.\n",
       "\n",
       "[80 rows x 2 columns]"
      ]
     },
     "execution_count": 6,
     "metadata": {},
     "output_type": "execute_result"
    }
   ],
   "source": [
    "zumma_book = pd.read_excel('data/zumma_engbook_persona.xlsx')\n",
    "zumma_book"
   ]
  },
  {
   "cell_type": "code",
   "execution_count": 16,
   "metadata": {},
   "outputs": [],
   "source": [
    "zumma_book['situation']= preprocessing(zumma_book, 'situation')\n",
    "zumma_book['persona']=preprocessing(zumma_book, 'persona')"
   ]
  },
  {
   "cell_type": "code",
   "execution_count": 26,
   "metadata": {},
   "outputs": [
    {
     "data": {
      "text/plain": [
       "['immigration checkpoint',\n",
       " 'in a taxi',\n",
       " 'hotel check-in',\n",
       " 'at a restaurant',\n",
       " 'getting a dessert',\n",
       " 'asking for directions',\n",
       " 'at a shopping mall',\n",
       " 'hotel check-out',\n",
       " 'checking in at the airport',\n",
       " 'in flight',\n",
       " 'currency exchange',\n",
       " 'renting a car',\n",
       " 'making a hotel reservation',\n",
       " 'room service',\n",
       " 'buying a camera',\n",
       " 'at a supermarket',\n",
       " 'in a hospital',\n",
       " 'getting a souvenir',\n",
       " 'asking someone to take a photo']"
      ]
     },
     "execution_count": 26,
     "metadata": {},
     "output_type": "execute_result"
    }
   ],
   "source": [
    "situations = zumma_book['situation'].drop_duplicates().tolist()\n",
    "situations"
   ]
  },
  {
   "cell_type": "code",
   "execution_count": 21,
   "metadata": {},
   "outputs": [
    {
     "data": {
      "text/plain": [
       "0                    i have a pasport.\n",
       "1       i am first visit in singapore.\n",
       "2      i will be staying at the hotel.\n",
       "3    i will be staying for three days.\n",
       "Name: persona, dtype: object"
      ]
     },
     "execution_count": 21,
     "metadata": {},
     "output_type": "execute_result"
    }
   ],
   "source": [
    "zumma_book[zumma_book['situation']==situations[0]]['persona']"
   ]
  },
  {
   "cell_type": "code",
   "execution_count": 22,
   "metadata": {},
   "outputs": [],
   "source": [
    "dataset = [  {situation: zumma_book[zumma_book['situation']==situation]['persona'].tolist()} for situation in situations]"
   ]
  },
  {
   "cell_type": "code",
   "execution_count": 23,
   "metadata": {},
   "outputs": [
    {
     "data": {
      "text/plain": [
       "[{'immigration checkpoint': ['i have a pasport.',\n",
       "   'i am first visit in singapore.',\n",
       "   'i will be staying at the hotel.',\n",
       "   'i will be staying for three days.']},\n",
       " {'in a taxi': [\"i'd like to go to the hotel.\",\n",
       "   'it is 20 minutes from here.',\n",
       "   'we will be there soon.',\n",
       "   \"it's 19 dollars.\"]},\n",
       " {'hotel check-in': ['my name is zoomma.',\n",
       "   'i want to check in.',\n",
       "   'your room number is 567.',\n",
       "   'check out time is 12 am.']},\n",
       " {'at a restaurant': ['i have a table for two people.',\n",
       "   'this restaurant is my first time here.',\n",
       "   \"i'll have irish beef steak.\",\n",
       "   'i want to get some more water']},\n",
       " {'getting a dessert': ['dinner was great.',\n",
       "   'i want to eat chocolate cake for dessert.',\n",
       "   'i need four cups of coffee.',\n",
       "   'i want to eat strawberry cake.']},\n",
       " {'asking for directions': ['i am looking for hotel.',\n",
       "   'it takes 5 minutes.',\n",
       "   'go along this road untill you get to the 5th avenue.',\n",
       "   'the hotel is not far away at all']},\n",
       " {'at a shopping mall': ['long-sleeve shirts are right here.',\n",
       "   'long-sleeve shirts are 15 dollars each.',\n",
       "   'the fitting room is over there.',\n",
       "   'long-sleeve shirts has large size.']},\n",
       " {'hotel check-out': ['i want to check out.',\n",
       "   'my name is zoomma.',\n",
       "   'i did not take anything from the minibar.',\n",
       "   \"i'll pay with credit card.\",\n",
       "   'everything was great.']},\n",
       " {'checking in at the airport': ['i have ticket and passport.',\n",
       "   'i have one bag.',\n",
       "   'i have one small bags with me.',\n",
       "   'i would like a window sea.']},\n",
       " {'in flight': ['i want to have some water.',\n",
       "   'i want to have some more peanuts.',\n",
       "   'i want to eat chicken.',\n",
       "   'i need one more blanket.']},\n",
       " {'currency exchange': ['i would like to exchange korean won into dollars.',\n",
       "   'i want to have three 100 dollar bills',\n",
       "   'my phone number is 010-9250-0676.',\n",
       "   'i will go to america']},\n",
       " {'renting a car': [\"i'd like to rent a car\",\n",
       "   'compact is 12 dollars, midsize is 24 dollars, and vans are 40 dollars a day',\n",
       "   'i want to get a compact car.',\n",
       "   'i will rent the car three days.',\n",
       "   'insurance is 10 dollars a day.']},\n",
       " {'making a hotel reservation': ['i would like to make a reservation for this weekend',\n",
       "   'we will probably stay for one night.',\n",
       "   'people will be two of us.',\n",
       "   'we need twin beds.',\n",
       "   'my name is zoomma.']},\n",
       " {'room service': ['i want to have some breakfast.',\n",
       "   \"i'd like some scrambled eggs, bacon and some toast.\",\n",
       "   'i need some coffee.',\n",
       "   'it will take about 10 minutes.']},\n",
       " {'buying a camera': ['i would like to buy a camera.',\n",
       "   'i would like to buy a samsung camera.',\n",
       "   'i want to see blue one.',\n",
       "   'the camera 250 dollars.',\n",
       "   'it is on sale.']},\n",
       " {'at a supermarket': ['i am looking for the fruit section.',\n",
       "   'they are on aisle four.',\n",
       "   'today is on sale the strawberries and orange are on sale.',\n",
       "   'some asian foods on aisle 11.']},\n",
       " {'in a hospital': [\"i'm not feeling well now.\",\n",
       "   'i have got a headache and a fever.',\n",
       "   'i have been a headache about 2 days. ',\n",
       "   'sometimes, i have a cough.']},\n",
       " {'getting a souvenir': ['t-shrits are right over here.',\n",
       "   'i think my friend is a bit taller than you',\n",
       "   'necklace is 120 dollars.',\n",
       "   'i will need a large.']},\n",
       " {'asking someone to take a photo': ['just show me what to do with the camera.',\n",
       "   'i take you photo.',\n",
       "   'all right say cheese',\n",
       "   \"my phone's battery is low.\"]}]"
      ]
     },
     "execution_count": 23,
     "metadata": {},
     "output_type": "execute_result"
    }
   ],
   "source": [
    "dataset"
   ]
  },
  {
   "cell_type": "code",
   "execution_count": 24,
   "metadata": {},
   "outputs": [],
   "source": [
    "with open('data/persona_label.json', 'w', encoding=\"utf-8\") as make_file:\n",
    "    json.dump(dataset, make_file, ensure_ascii=False, indent=\"\\t\")"
   ]
  },
  {
   "cell_type": "code",
   "execution_count": 27,
   "metadata": {},
   "outputs": [],
   "source": [
    "dataset_path = 'data/persona_label.json'\n",
    "with open(dataset_path, \"r\", encoding=\"utf-8\") as f:\n",
    "    dataset = json.loads(f.read())"
   ]
  },
  {
   "cell_type": "code",
   "execution_count": 35,
   "metadata": {},
   "outputs": [
    {
     "name": "stdout",
     "output_type": "stream",
     "text": [
      "['i have a pasport.', 'i am first visit in singapore.', 'i will be staying at the hotel.', 'i will be staying for three days.']\n"
     ]
    },
    {
     "ename": "KeyError",
     "evalue": "'immigration checkpoint'",
     "output_type": "error",
     "traceback": [
      "\u001b[0;31m---------------------------------------------------------------------------\u001b[0m",
      "\u001b[0;31mKeyError\u001b[0m                                  Traceback (most recent call last)",
      "\u001b[0;32m<ipython-input-35-5c32781b7f36>\u001b[0m in \u001b[0;36m<module>\u001b[0;34m\u001b[0m\n\u001b[0;32m----> 1\u001b[0;31m \u001b[0;34m[\u001b[0m\u001b[0mprint\u001b[0m\u001b[0;34m(\u001b[0m\u001b[0mdata\u001b[0m\u001b[0;34m[\u001b[0m\u001b[0;34m'immigration checkpoint'\u001b[0m\u001b[0;34m]\u001b[0m\u001b[0;34m)\u001b[0m\u001b[0;32mfor\u001b[0m \u001b[0mdata\u001b[0m \u001b[0;32min\u001b[0m \u001b[0mdataset\u001b[0m\u001b[0;34m]\u001b[0m\u001b[0;34m\u001b[0m\u001b[0;34m\u001b[0m\u001b[0m\n\u001b[0m",
      "\u001b[0;32m<ipython-input-35-5c32781b7f36>\u001b[0m in \u001b[0;36m<listcomp>\u001b[0;34m(.0)\u001b[0m\n\u001b[0;32m----> 1\u001b[0;31m \u001b[0;34m[\u001b[0m\u001b[0mprint\u001b[0m\u001b[0;34m(\u001b[0m\u001b[0mdata\u001b[0m\u001b[0;34m[\u001b[0m\u001b[0;34m'immigration checkpoint'\u001b[0m\u001b[0;34m]\u001b[0m\u001b[0;34m)\u001b[0m\u001b[0;32mfor\u001b[0m \u001b[0mdata\u001b[0m \u001b[0;32min\u001b[0m \u001b[0mdataset\u001b[0m\u001b[0;34m]\u001b[0m\u001b[0;34m\u001b[0m\u001b[0;34m\u001b[0m\u001b[0m\n\u001b[0m",
      "\u001b[0;31mKeyError\u001b[0m: 'immigration checkpoint'"
     ]
    }
   ],
   "source": [
    "[print(data['immigration checkpoint'])for data in dataset]"
   ]
  },
  {
   "cell_type": "code",
   "execution_count": null,
   "metadata": {},
   "outputs": [],
   "source": []
  }
 ],
 "metadata": {
  "kernelspec": {
   "display_name": "Python 3.7.7 64-bit",
   "language": "python",
   "name": "python37764bit4dcc6f59b3a54fb6b75d613bf38e342a"
  },
  "language_info": {
   "codemirror_mode": {
    "name": "ipython",
    "version": 3
   },
   "file_extension": ".py",
   "mimetype": "text/x-python",
   "name": "python",
   "nbconvert_exporter": "python",
   "pygments_lexer": "ipython3",
   "version": "3.7.7"
  }
 },
 "nbformat": 4,
 "nbformat_minor": 4
}

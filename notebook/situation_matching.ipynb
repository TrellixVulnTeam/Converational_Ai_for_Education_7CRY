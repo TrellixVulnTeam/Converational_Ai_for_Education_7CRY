{
 "cells": [
  {
   "cell_type": "markdown",
   "metadata": {},
   "source": [
    "# Dataset Matching\n",
    "\n",
    "## 줌마영어 교재 데이터\n",
    "- 줌마 영어 교재 챕터 당 여러\u000b상황이 매치됨\n",
    "- 일대일 관계 -> 일대다 변형 필요\n",
    "### Data Summary\n",
    "항목 | 값\n",
    "---|--\n",
    "교재 챕터 수 | 19\n",
    "대화 턴 | 12~14\n",
    "생성 가능 Persona | 19\n",
    "생성 가능 History | 11~13\n",
    "\n"
   ]
  },
  {
   "cell_type": "code",
   "execution_count": 1,
   "metadata": {},
   "outputs": [],
   "source": [
    "import pandas as pd\n",
    "import numpy as np\n",
    "import json\n",
    "from itertools import islice, chain, cycle\n",
    "import random\n",
    "import copy\n",
    "import contractions\n",
    "import spacy"
   ]
  },
  {
   "cell_type": "code",
   "execution_count": 2,
   "metadata": {},
   "outputs": [
    {
     "data": {
      "text/plain": [
       "True"
      ]
     },
     "execution_count": 2,
     "metadata": {},
     "output_type": "execute_result"
    }
   ],
   "source": [
    "spacy.prefer_gpu()\n",
    "spacy.require_gpu()"
   ]
  },
  {
   "cell_type": "code",
   "execution_count": 3,
   "metadata": {},
   "outputs": [
    {
     "data": {
      "text/html": [
       "<div>\n",
       "<style scoped>\n",
       "    .dataframe tbody tr th:only-of-type {\n",
       "        vertical-align: middle;\n",
       "    }\n",
       "\n",
       "    .dataframe tbody tr th {\n",
       "        vertical-align: top;\n",
       "    }\n",
       "\n",
       "    .dataframe thead th {\n",
       "        text-align: right;\n",
       "    }\n",
       "</style>\n",
       "<table border=\"1\" class=\"dataframe\">\n",
       "  <thead>\n",
       "    <tr style=\"text-align: right;\">\n",
       "      <th></th>\n",
       "      <th>situation</th>\n",
       "      <th>persona</th>\n",
       "    </tr>\n",
       "  </thead>\n",
       "  <tbody>\n",
       "    <tr>\n",
       "      <th>0</th>\n",
       "      <td>immigration checkpoint</td>\n",
       "      <td>I have a pasport.</td>\n",
       "    </tr>\n",
       "    <tr>\n",
       "      <th>1</th>\n",
       "      <td>immigration checkpoint</td>\n",
       "      <td>I am first visit in Singapore.</td>\n",
       "    </tr>\n",
       "    <tr>\n",
       "      <th>2</th>\n",
       "      <td>immigration checkpoint</td>\n",
       "      <td>I will be staying at the hotel.</td>\n",
       "    </tr>\n",
       "    <tr>\n",
       "      <th>3</th>\n",
       "      <td>immigration checkpoint</td>\n",
       "      <td>I will be staying for three days.</td>\n",
       "    </tr>\n",
       "    <tr>\n",
       "      <th>4</th>\n",
       "      <td>In a Taxi</td>\n",
       "      <td>I'd like to go to the hotel.</td>\n",
       "    </tr>\n",
       "    <tr>\n",
       "      <th>5</th>\n",
       "      <td>In a Taxi</td>\n",
       "      <td>It is 20 minutes from here.</td>\n",
       "    </tr>\n",
       "    <tr>\n",
       "      <th>6</th>\n",
       "      <td>In a Taxi</td>\n",
       "      <td>We will be there soon.</td>\n",
       "    </tr>\n",
       "    <tr>\n",
       "      <th>7</th>\n",
       "      <td>In a Taxi</td>\n",
       "      <td>it's 19 dollars.</td>\n",
       "    </tr>\n",
       "    <tr>\n",
       "      <th>8</th>\n",
       "      <td>Hotel Check-in</td>\n",
       "      <td>My name is Zoomma.</td>\n",
       "    </tr>\n",
       "    <tr>\n",
       "      <th>9</th>\n",
       "      <td>Hotel Check-in</td>\n",
       "      <td>I want to check in.</td>\n",
       "    </tr>\n",
       "  </tbody>\n",
       "</table>\n",
       "</div>"
      ],
      "text/plain": [
       "                situation                            persona\n",
       "0  immigration checkpoint                  I have a pasport.\n",
       "1  immigration checkpoint     I am first visit in Singapore.\n",
       "2  immigration checkpoint    I will be staying at the hotel.\n",
       "3  immigration checkpoint  I will be staying for three days.\n",
       "4               In a Taxi       I'd like to go to the hotel.\n",
       "5               In a Taxi        It is 20 minutes from here.\n",
       "6               In a Taxi             We will be there soon.\n",
       "7               In a Taxi                   it's 19 dollars.\n",
       "8          Hotel Check-in                 My name is Zoomma.\n",
       "9          Hotel Check-in                I want to check in."
      ]
     },
     "execution_count": 3,
     "metadata": {},
     "output_type": "execute_result"
    }
   ],
   "source": [
    "zumma_book = pd.read_excel('data/zumma_engbook_persona.xlsx')\n",
    "zumma_book.head(10)"
   ]
  },
  {
   "source": [
    " \n"
   ],
   "cell_type": "markdown",
   "metadata": {}
  },
  {
   "cell_type": "markdown",
   "metadata": {},
   "source": [
    "## AI HUB 상황 데이터\n",
    "\n",
    "### Data Summary\n",
    "항목 | 값\n",
    "---|--\n",
    "상황 수 | 2,769\n",
    "대화 수  | 100,000\n",
    "최대 생성 Persona | 2,769\n",
    "최대 생성 History | 25,000\n"
   ]
  },
  {
   "cell_type": "code",
   "execution_count": 4,
   "metadata": {},
   "outputs": [
    {
     "data": {
      "text/html": [
       "<div>\n",
       "<style scoped>\n",
       "    .dataframe tbody tr th:only-of-type {\n",
       "        vertical-align: middle;\n",
       "    }\n",
       "\n",
       "    .dataframe tbody tr th {\n",
       "        vertical-align: top;\n",
       "    }\n",
       "\n",
       "    .dataframe thead th {\n",
       "        text-align: right;\n",
       "    }\n",
       "</style>\n",
       "<table border=\"1\" class=\"dataframe\">\n",
       "  <thead>\n",
       "    <tr style=\"text-align: right;\">\n",
       "      <th></th>\n",
       "      <th>major</th>\n",
       "      <th>minor</th>\n",
       "      <th>situation</th>\n",
       "      <th>scenario</th>\n",
       "      <th>en</th>\n",
       "    </tr>\n",
       "  </thead>\n",
       "  <tbody>\n",
       "    <tr>\n",
       "      <th>0</th>\n",
       "      <td>비즈니스</td>\n",
       "      <td>meeting</td>\n",
       "      <td>의견 교환하기</td>\n",
       "      <td>1</td>\n",
       "      <td>How is the market's reaction to the newly rele...</td>\n",
       "    </tr>\n",
       "    <tr>\n",
       "      <th>1</th>\n",
       "      <td>비즈니스</td>\n",
       "      <td>meeting</td>\n",
       "      <td>의견 교환하기</td>\n",
       "      <td>1</td>\n",
       "      <td>The sales increase is faster than the previous...</td>\n",
       "    </tr>\n",
       "    <tr>\n",
       "      <th>2</th>\n",
       "      <td>비즈니스</td>\n",
       "      <td>meeting</td>\n",
       "      <td>의견 교환하기</td>\n",
       "      <td>1</td>\n",
       "      <td>Then, we'll have to call the manufacturer and ...</td>\n",
       "    </tr>\n",
       "    <tr>\n",
       "      <th>3</th>\n",
       "      <td>비즈니스</td>\n",
       "      <td>meeting</td>\n",
       "      <td>의견 교환하기</td>\n",
       "      <td>1</td>\n",
       "      <td>Sure, I'll make a call and double the volume o...</td>\n",
       "    </tr>\n",
       "    <tr>\n",
       "      <th>4</th>\n",
       "      <td>비즈니스</td>\n",
       "      <td>meeting</td>\n",
       "      <td>의견 교환하기</td>\n",
       "      <td>2</td>\n",
       "      <td>Shall we take a look at the issues we discusse...</td>\n",
       "    </tr>\n",
       "    <tr>\n",
       "      <th>5</th>\n",
       "      <td>비즈니스</td>\n",
       "      <td>meeting</td>\n",
       "      <td>의견 교환하기</td>\n",
       "      <td>2</td>\n",
       "      <td>I believe that this week's new issues are more...</td>\n",
       "    </tr>\n",
       "    <tr>\n",
       "      <th>6</th>\n",
       "      <td>비즈니스</td>\n",
       "      <td>meeting</td>\n",
       "      <td>의견 교환하기</td>\n",
       "      <td>2</td>\n",
       "      <td>Then, let's begin our meeting with the new iss...</td>\n",
       "    </tr>\n",
       "    <tr>\n",
       "      <th>7</th>\n",
       "      <td>비즈니스</td>\n",
       "      <td>meeting</td>\n",
       "      <td>의견 교환하기</td>\n",
       "      <td>2</td>\n",
       "      <td>Sure, the related materials are ready in front...</td>\n",
       "    </tr>\n",
       "    <tr>\n",
       "      <th>8</th>\n",
       "      <td>비즈니스</td>\n",
       "      <td>meeting</td>\n",
       "      <td>의견 교환하기</td>\n",
       "      <td>3</td>\n",
       "      <td>Do you mean we need to order additional 2,000 ...</td>\n",
       "    </tr>\n",
       "    <tr>\n",
       "      <th>9</th>\n",
       "      <td>비즈니스</td>\n",
       "      <td>meeting</td>\n",
       "      <td>의견 교환하기</td>\n",
       "      <td>3</td>\n",
       "      <td>Yes, time is running short, but we can manage it.</td>\n",
       "    </tr>\n",
       "  </tbody>\n",
       "</table>\n",
       "</div>"
      ],
      "text/plain": [
       "  major    minor situation  scenario  \\\n",
       "0  비즈니스  meeting   의견 교환하기         1   \n",
       "1  비즈니스  meeting   의견 교환하기         1   \n",
       "2  비즈니스  meeting   의견 교환하기         1   \n",
       "3  비즈니스  meeting   의견 교환하기         1   \n",
       "4  비즈니스  meeting   의견 교환하기         2   \n",
       "5  비즈니스  meeting   의견 교환하기         2   \n",
       "6  비즈니스  meeting   의견 교환하기         2   \n",
       "7  비즈니스  meeting   의견 교환하기         2   \n",
       "8  비즈니스  meeting   의견 교환하기         3   \n",
       "9  비즈니스  meeting   의견 교환하기         3   \n",
       "\n",
       "                                                  en  \n",
       "0  How is the market's reaction to the newly rele...  \n",
       "1  The sales increase is faster than the previous...  \n",
       "2  Then, we'll have to call the manufacturer and ...  \n",
       "3  Sure, I'll make a call and double the volume o...  \n",
       "4  Shall we take a look at the issues we discusse...  \n",
       "5  I believe that this week's new issues are more...  \n",
       "6  Then, let's begin our meeting with the new iss...  \n",
       "7  Sure, the related materials are ready in front...  \n",
       "8  Do you mean we need to order additional 2,000 ...  \n",
       "9  Yes, time is running short, but we can manage it.  "
      ]
     },
     "execution_count": 4,
     "metadata": {},
     "output_type": "execute_result"
    }
   ],
   "source": [
    "ai_hub = pd.read_excel('data/dialog_personaen(en).xlsx', index_col=0)\n",
    "ai_hub['situation'] = ai_hub['situation'].str.replace(' / ', '/')\n",
    "ai_hub.head(10)"
   ]
  },
  {
   "cell_type": "markdown",
   "metadata": {},
   "source": [
    "### 데이터 전처리\n",
    "#### 소문자, 쉼표, 마췸표 구분"
   ]
  },
  {
   "cell_type": "code",
   "execution_count": 5,
   "metadata": {},
   "outputs": [],
   "source": [
    "nlp = spacy.load('en_core_web_sm')\n",
    "def spacingPunct(text):\n",
    "    sentence = [token.text for token in nlp(text)]\n",
    "    return \" \".join(sentence)\n",
    "\n",
    "def preprocessing(df, column_name):\n",
    "    df[column_name] = df[column_name].str.lower()\n",
    "#     df[column_name] = df[column_name].apply(lambda x : spacingPunct(x))\n",
    "    return df[column_name]\n",
    "\n",
    "def del_duplication(data_list):\n",
    "    data_list  = list(data_list)\n",
    "    data_list  = set(data_list)\n",
    "    return list(data_list)\n",
    "\n",
    "def find_matched_situation(situations):  #Zumma Text Book과 Ai Hub 상황 매칭(dialog)\n",
    "    dialog = [ai_hub[ai_hub['situation']==situation]['en'] for situation in situations]\n",
    "    dialog = pd.concat(dialog, axis=0).tolist()\n",
    "    dialog = [dialog[i * 4:(i + 1) * 4] for i in range((len(dialog) + 4 - 1) // 4 )] #4개의 대화 셋이 하나의 Dialog\n",
    "    return dialog\n"
   ]
  },
  {
   "cell_type": "code",
   "execution_count": 6,
   "metadata": {},
   "outputs": [],
   "source": [
    "zumma_book['persona'] = preprocessing(zumma_book, 'persona')\n",
    "zumma_book['situation'] = preprocessing(zumma_book, 'situation')"
   ]
  },
  {
   "cell_type": "code",
   "execution_count": 7,
   "metadata": {},
   "outputs": [],
   "source": [
    "ai_hub['en'] = preprocessing(ai_hub, 'en')"
   ]
  },
  {
   "cell_type": "code",
   "execution_count": 8,
   "metadata": {},
   "outputs": [
    {
     "data": {
      "text/plain": [
       "\"how is the market's reaction to the newly released product?\""
      ]
     },
     "execution_count": 8,
     "metadata": {},
     "output_type": "execute_result"
    }
   ],
   "source": [
    "ai_hub.iloc[0]['en']"
   ]
  },
  {
   "cell_type": "markdown",
   "metadata": {},
   "source": [
    "### 상황 데이터"
   ]
  },
  {
   "cell_type": "code",
   "execution_count": 9,
   "metadata": {},
   "outputs": [
    {
     "data": {
      "text/plain": [
       "['checking in at the airport',\n",
       " 'renting a car',\n",
       " 'asking for directions',\n",
       " 'making a hotel reservation',\n",
       " 'immigration checkpoint',\n",
       " 'getting a souvenir',\n",
       " 'in a hospital',\n",
       " 'hotel check-out',\n",
       " 'room service',\n",
       " 'buying a camera',\n",
       " 'in a taxi',\n",
       " 'hotel check-in',\n",
       " 'at a supermarket',\n",
       " 'currency exchange',\n",
       " 'asking someone to take a photo',\n",
       " 'getting a dessert',\n",
       " 'at a restaurant',\n",
       " 'in flight',\n",
       " 'at a shopping mall']"
      ]
     },
     "execution_count": 9,
     "metadata": {},
     "output_type": "execute_result"
    }
   ],
   "source": [
    "situations = del_duplication(zumma_book['situation'].tolist())\n",
    "situations"
   ]
  },
  {
   "cell_type": "markdown",
   "metadata": {},
   "source": [
    "### 페스소나 데이터"
   ]
  },
  {
   "cell_type": "code",
   "execution_count": 10,
   "metadata": {},
   "outputs": [
    {
     "data": {
      "text/plain": [
       "{'checking in at the airport': ['i have ticket and passport.',\n",
       "  'i have one bag.',\n",
       "  'i have one small bags with me.',\n",
       "  'i would like a window sea.']}"
      ]
     },
     "execution_count": 10,
     "metadata": {},
     "output_type": "execute_result"
    }
   ],
   "source": [
    "persona_data= [{situation: zumma_book[zumma_book['situation']==situation]['persona'].tolist()} for situation in situations]\n",
    "persona_data[0]"
   ]
  },
  {
   "source": [
    " "
   ],
   "cell_type": "markdown",
   "metadata": {}
  },
  {
   "cell_type": "markdown",
   "metadata": {},
   "source": [
    "## 줌마영어 교재(Persona dataset)과 AI HUB Dialog dataset 결합\n",
    "- 줌마영어 교제의 dialogset에는 AI HUB데이터의 여러 상황이 대응됨.\n",
    "- ex) in a hospital -> 증상을 묻고 답하는 상황,..,\n",
    "- 이를 활용하여 Persona Dataset 제작\n",
    "- 같은 Persona 중복을 피하기 위해 위치 변환을 통해 Persona를 뒤섞음(Hugging Face에서도 데이터 수를 augment하기 위해서 이 방법을 사용)"
   ]
  },
  {
   "cell_type": "code",
   "execution_count": 11,
   "metadata": {},
   "outputs": [
    {
     "name": "stdout",
     "output_type": "stream",
     "text": [
      "['checking in at the airport', 'renting a car', 'asking for directions', 'making a hotel reservation', 'immigration checkpoint', 'getting a souvenir', 'in a hospital', 'hotel check-out', 'room service', 'buying a camera', 'in a taxi', 'hotel check-in', 'at a supermarket', 'currency exchange', 'asking someone to take a photo', 'getting a dessert', 'at a restaurant', 'in flight', 'at a shopping mall']\n"
     ]
    }
   ],
   "source": [
    "print(situations)"
   ]
  },
  {
   "cell_type": "code",
   "execution_count": 12,
   "metadata": {},
   "outputs": [],
   "source": [
    "#Persona  = [AI HUB Situationn] 매칭\n",
    "situation_matched = {\"in a hospital\" : [\"증상을 묻고 답하는 상황\"],\n",
    "                    'room service': [\"룸서비스, 호텔 서비스, 불만 표시, 요청하기\"],\n",
    "                     'getting a souvenir' : [\"기념품을 구매하는 상황\", \"여행 상품을 구매하는 상황\", \"기념품상점에서 기념품 구매하는 상황\"],\n",
    "                     'getting a dessert' : [\"식사/디저트 주문\" ],\n",
    "                     'hotel check-out' : [\"체크인/체크아웃 할 때\"],\n",
    "                     'making a hotel reservation' : [\"호텔 (체크인, 항의, 부대시설 문의, 가격 문의)\"],\n",
    "                     'at a supermarket' : [\"마트 (물건 찾기, 즉석/신선 제품)\", \"시장에서 물건사기\",  ],\n",
    "                     'at a shopping mall': [\"아울렛, 리퍼브(반품) 매장(특별매장)에서 상품을 구매하고 문의 할때\",\"옷가게, 신발가게 (사이즈, 착용, 탈의실 등)\", \"착용/사용 요청할 때\", \"할인 상품의 위치 및 가격에 대해 묻고 답하는 상황\",\n",
    "                                           ],\n",
    "                     'hotel check-in' : [\"체크인/체크아웃 할 때\"],\n",
    "                     'checking in at the airport': [\"공항에서 체크인할 때\"],\n",
    "                     'at a restaurant': [\"예약,입구,좌석 잡기\", \"메뉴/주문 접수 요청\", \"메인 식사 주문, 음료/후식 주문\", \"메뉴 주문\", ], #예약,입구,좌석 잡기- 제거\n",
    "                     'currency exchange' : [\"환전 및 여행자 수표가 필요한 상황\", \"공항/은행에서 환전하는 상황\", \"환전을 하는 상황\", ],\n",
    "                     'in flight' : [\"비행기 안 상황\", ],\n",
    "                     'in a taxi': [\"택시 이용(요금문제, 목적지 등)\", \"택시 (찾기, 승차, 도착 후, 요금 지불)\"], #택시 이용 추가( 더있음)\n",
    "                     'renting a car': [\"차를 렌트할 때 필수 조건에 대해 대화하는 상황\", \"렌트할 차를 고르는 상황\", \"렌트할 차의 요금에 대해 물어보는 상황\"],\n",
    "                     'asking for directions': [\"여행 와서 길 물을 때\", \"여행자 안내소에서 안내가 필요한 상황 (길 묻기, 대중교통 시간표 등)\", \"길 잃은 상황\" ],\n",
    "                     'immigration checkpoint': [\"입국심사 할 때\", \"입국/출국 상황( 입국심사, 수하물, 보안검색 )\" ],\n",
    "                     'buying a camera': [\"아울렛, 리퍼브(반품) 매장(특별매장)에서 상품을 구매하고 문의 할때\" ],\n",
    "                     'asking someone to take a photo' : ['사진 촬영하고 싶을 때 다른 관광객에게 부탁']\n",
    "                     }"
   ]
  },
  {
   "cell_type": "code",
   "execution_count": 13,
   "metadata": {},
   "outputs": [],
   "source": [
    "situation_matched = sorted(situation_matched.items())"
   ]
  },
  {
   "cell_type": "code",
   "execution_count": 14,
   "metadata": {},
   "outputs": [
    {
     "data": {
      "text/plain": [
       "[('asking for directions',\n",
       "  ['여행 와서 길 물을 때', '여행자 안내소에서 안내가 필요한 상황 (길 묻기, 대중교통 시간표 등)', '길 잃은 상황']),\n",
       " ('asking someone to take a photo', ['사진 촬영하고 싶을 때 다른 관광객에게 부탁']),\n",
       " ('at a restaurant',\n",
       "  ['예약,입구,좌석 잡기', '메뉴/주문 접수 요청', '메인 식사 주문, 음료/후식 주문', '메뉴 주문']),\n",
       " ('at a shopping mall',\n",
       "  ['아울렛, 리퍼브(반품) 매장(특별매장)에서 상품을 구매하고 문의 할때',\n",
       "   '옷가게, 신발가게 (사이즈, 착용, 탈의실 등)',\n",
       "   '착용/사용 요청할 때',\n",
       "   '할인 상품의 위치 및 가격에 대해 묻고 답하는 상황']),\n",
       " ('at a supermarket', ['마트 (물건 찾기, 즉석/신선 제품)', '시장에서 물건사기']),\n",
       " ('buying a camera', ['아울렛, 리퍼브(반품) 매장(특별매장)에서 상품을 구매하고 문의 할때']),\n",
       " ('checking in at the airport', ['공항에서 체크인할 때']),\n",
       " ('currency exchange',\n",
       "  ['환전 및 여행자 수표가 필요한 상황', '공항/은행에서 환전하는 상황', '환전을 하는 상황']),\n",
       " ('getting a dessert', ['식사/디저트 주문']),\n",
       " ('getting a souvenir',\n",
       "  ['기념품을 구매하는 상황', '여행 상품을 구매하는 상황', '기념품상점에서 기념품 구매하는 상황']),\n",
       " ('hotel check-in', ['체크인/체크아웃 할 때']),\n",
       " ('hotel check-out', ['체크인/체크아웃 할 때']),\n",
       " ('immigration checkpoint', ['입국심사 할 때', '입국/출국 상황( 입국심사, 수하물, 보안검색 )']),\n",
       " ('in a hospital', ['증상을 묻고 답하는 상황']),\n",
       " ('in a taxi', ['택시 이용(요금문제, 목적지 등)', '택시 (찾기, 승차, 도착 후, 요금 지불)']),\n",
       " ('in flight', ['비행기 안 상황']),\n",
       " ('making a hotel reservation', ['호텔 (체크인, 항의, 부대시설 문의, 가격 문의)']),\n",
       " ('renting a car',\n",
       "  ['차를 렌트할 때 필수 조건에 대해 대화하는 상황', '렌트할 차를 고르는 상황', '렌트할 차의 요금에 대해 물어보는 상황']),\n",
       " ('room service', ['룸서비스, 호텔 서비스, 불만 표시, 요청하기'])]"
      ]
     },
     "execution_count": 14,
     "metadata": {},
     "output_type": "execute_result"
    }
   ],
   "source": [
    "situation_matched"
   ]
  },
  {
   "cell_type": "code",
   "execution_count": 15,
   "metadata": {},
   "outputs": [],
   "source": [
    "#situation_dialog = [{situation :find_matched_situation(detail_situations)} for index, (situation, detail_situations) in enumerate(situation_matched)]  "
   ]
  },
  {
   "cell_type": "code",
   "execution_count": 16,
   "metadata": {},
   "outputs": [],
   "source": [
    "situation_dialog ={}\n",
    "for index, (situation, detail_situations) in enumerate(situation_matched):\n",
    "    temp = {situation :find_matched_situation(detail_situations)}\n",
    "    situation_dialog.update(temp)"
   ]
  },
  {
   "cell_type": "code",
   "execution_count": 17,
   "metadata": {},
   "outputs": [
    {
     "data": {
      "text/plain": [
       "['excuse me. how can i get to this restaurant?',\n",
       " \"it's very close. go straight this way and you'll see a big yellow sign. the restaurant is in the alley right next to it.\",\n",
       " 'thanks, how long will it take to get there?',\n",
       " 'less than 5 minutes probably. keep walking straight until you see the yellow sign.']"
      ]
     },
     "execution_count": 17,
     "metadata": {},
     "output_type": "execute_result"
    }
   ],
   "source": [
    "situation_dialog['asking for directions'][0]"
   ]
  },
  {
   "cell_type": "markdown",
   "metadata": {},
   "source": [
    "#### 4개씩(dialog) 묶긴 상황 데이터\n",
    "{'asking for directions': [['excuse me . how can i get to this restaurant ?',\n",
    "   'its very close . go straight this way and you will see a big yellow sign . the restaurant is in the alley right next to it .',\n",
    "   'thanks , how long will it take to get there ?',\n",
    "   'less than 5 minutes probably . keep walking straight until you see the yellow sign .'],\n",
    "  ['im trying to go to busan tomorrow . what time does the bus operate ?',\n",
    "   'there are buses starting at 5 in the morning to busan .',\n",
    "   'could i get tickets for two adults and one child for the 5 a .m . bus to busan tomorrow ?',\n",
    "   'yes , for two adults and one child , the price will be 60 ,000 won .'],\n",
    "  ['sorry , but is there a place in the park where i can take a bus ?',\n",
    "   'yes , there is a bus just for going around the park .',\n",
    "   'how often does the bus being operated for the park come ?',\n",
    "   'the bus specifically for the park comes every 15 to 20 minutes .'],\n",
    "  ['do i have to pay for the park pamphlet or map ?',"
   ]
  },
  {
   "cell_type": "code",
   "execution_count": 18,
   "metadata": {},
   "outputs": [
    {
     "data": {
      "text/plain": [
       "{'checking in at the airport': ['i have ticket and passport.',\n",
       "  'i have one bag.',\n",
       "  'i have one small bags with me.',\n",
       "  'i would like a window sea.']}"
      ]
     },
     "execution_count": 18,
     "metadata": {},
     "output_type": "execute_result"
    }
   ],
   "source": [
    "persona_data[0] #상황 : [페스소나,...,]"
   ]
  },
  {
   "cell_type": "markdown",
   "metadata": {},
   "source": [
    "# Utterance\n",
    "#### History와 Candidate로 구성"
   ]
  },
  {
   "cell_type": "code",
   "execution_count": 19,
   "metadata": {},
   "outputs": [],
   "source": [
    "def addingCandidate(next_sentence):\n",
    "    candidate = copy.deepcopy(random.sample(ai_hub['en'].tolist(),19))\n",
    "#     if next_sentence == None:\n",
    "#         next_sentence = random.sample(ai_hub['en'].tolist(),1).copy()\n",
    "    candidate.append(next_sentence)\n",
    "    return candidate"
   ]
  },
  {
   "cell_type": "code",
   "execution_count": 20,
   "metadata": {},
   "outputs": [],
   "source": [
    "def set_utterance(dialog):\n",
    "    dialog.append(\"empty sentene\")\n",
    "    dialog.append(\"empty sentene\")\n",
    "    utterance = [{'candidates': addingCandidate(dialog[i+1]), 'history': dialog[:i+1]} for i,sentence in islice(enumerate(dialog), None,5,2)]\n",
    "    return utterance"
   ]
  },
  {
   "cell_type": "markdown",
   "metadata": {},
   "source": [
    "## Personality\n",
    "#### Utterance와 Personality(Persona) 결합"
   ]
  },
  {
   "cell_type": "code",
   "execution_count": 21,
   "metadata": {},
   "outputs": [],
   "source": [
    "data = []\n",
    "for situation in situations:\n",
    "    personality = zumma_book[zumma_book['situation']==situation]['persona'].tolist()\n",
    "    dialogues = situation_dialog[situation].copy()\n",
    "    for dialogue in dialogues:\n",
    "        temp_person =[]\n",
    "        np.random.shuffle(personality)\n",
    "        temp_person = copy.deepcopy(personality)\n",
    "        data.append(copy.copy({'personality': temp_person, 'utterances': set_utterance(dialogue)}))"
   ]
  },
  {
   "cell_type": "markdown",
   "metadata": {},
   "source": [
    "## JSON Format"
   ]
  },
  {
   "cell_type": "code",
   "execution_count": 22,
   "metadata": {},
   "outputs": [],
   "source": [
    "np.random.shuffle(data)\n",
    "train_data = copy.deepcopy(data)\n",
    "valid_data = np.random.choice(data, 200, replace=False).tolist()"
   ]
  },
  {
   "cell_type": "code",
   "execution_count": 24,
   "metadata": {},
   "outputs": [],
   "source": [
    "train_val = {\"train\": train_data, \"valid\": valid_data}"
   ]
  },
  {
   "cell_type": "code",
   "execution_count": 25,
   "metadata": {},
   "outputs": [],
   "source": [
    "with open('data/en_book_conversational.json', 'w', encoding=\"utf-8\") as make_file:\n",
    "    json.dump(train_val, make_file, ensure_ascii=False)"
   ]
  },
  {
   "cell_type": "code",
   "execution_count": null,
   "metadata": {},
   "outputs": [],
   "source": []
  }
 ],
 "metadata": {
  "colab": {
   "name": "travel_dialog_preprecess.ipynb",
   "provenance": []
  },
  "kernelspec": {
   "display_name": "Python 3",
   "language": "python",
   "name": "python3"
  },
  "language_info": {
   "codemirror_mode": {
    "name": "ipython",
    "version": 3
   },
   "file_extension": ".py",
   "mimetype": "text/x-python",
   "name": "python",
   "nbconvert_exporter": "python",
   "pygments_lexer": "ipython3",
   "version": "3.7.6"
  }
 },
 "nbformat": 4,
 "nbformat_minor": 4
}